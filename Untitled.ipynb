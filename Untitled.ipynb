{
 "cells": [
  {
   "cell_type": "code",
   "execution_count": 8,
   "metadata": {
    "collapsed": false
   },
   "outputs": [
    {
     "name": "stdout",
     "output_type": "stream",
     "text": [
      "The Cython extension is already loaded. To reload it, use:\n",
      "  %reload_ext Cython\n"
     ]
    }
   ],
   "source": [
    "%load_ext Cython"
   ]
  },
  {
   "cell_type": "code",
   "execution_count": 12,
   "metadata": {
    "collapsed": false
   },
   "outputs": [
    {
     "name": "stderr",
     "output_type": "stream",
     "text": [
      "\n",
      "Error compiling Cython file:\n",
      "------------------------------------------------------------\n",
      "...\n",
      "    def __init__(self):\n",
      "        self.data_arr = np.empty((1, 1), dtype=np.float64, order='C')\n",
      "        self.data_arr = np.asarray(self.data_arr)\n",
      "        self.data = get_pointer_DTYPE_2D(self.data_arr)\n",
      "        \n",
      "        cdef floating[:, ::1] data = <floating [:self.data_arr.shape[0],\n",
      "                                    ^\n",
      "------------------------------------------------------------\n",
      "\n",
      "/Users/YenChen/.ipython/cython/_cython_magic_68a11cd41e27e0577b916e9fec989b78.pyx:20:37: Cannot coerce to a type that is not specialized\n",
      "\n",
      "Error compiling Cython file:\n",
      "------------------------------------------------------------\n",
      "...\n",
      "        self.data_arr = np.asarray(self.data_arr)\n",
      "        self.data = get_pointer_DTYPE_2D(self.data_arr)\n",
      "        \n",
      "        cdef floating[:, ::1] data = <floating [:self.data_arr.shape[0],\n",
      "                                                :self.data_arr.shape[1]:1]>self.data\n",
      "        print data.shape[0]\n",
      "                 ^\n",
      "------------------------------------------------------------\n",
      "\n",
      "/Users/YenChen/.ipython/cython/_cython_magic_68a11cd41e27e0577b916e9fec989b78.pyx:22:18: Compiler crash in AnalyseExpressionsTransform\n",
      "\n",
      "ModuleNode.body = StatListNode(_cython_magic_68a11cd41e27e0577b916e9fec989b78.pyx:2:0)\n",
      "StatListNode.stats[5] = StatListNode(_cython_magic_68a11cd41e27e0577b916e9fec989b78.pyx:11:5)\n",
      "StatListNode.stats[0] = CClassDefNode(_cython_magic_68a11cd41e27e0577b916e9fec989b78.pyx:11:5,\n",
      "    as_name = u'BinaryTree',\n",
      "    class_name = u'BinaryTree',\n",
      "    module_name = u'',\n",
      "    visibility = u'private')\n",
      "CClassDefNode.body = StatListNode(_cython_magic_68a11cd41e27e0577b916e9fec989b78.pyx:12:4)\n",
      "StatListNode.stats[0] = DefNode(_cython_magic_68a11cd41e27e0577b916e9fec989b78.pyx:15:4,\n",
      "    modifiers = [...]/0,\n",
      "    name = u'__init__',\n",
      "    num_required_args = 1,\n",
      "    py_wrapper_required = True,\n",
      "    reqd_kw_flags_cname = '0',\n",
      "    used = True)\n",
      "File 'Nodes.py', line 429, in analyse_expressions: StatListNode(_cython_magic_68a11cd41e27e0577b916e9fec989b78.pyx:16:8)\n",
      "File 'Nodes.py', line 5327, in analyse_expressions: PrintStatNode(_cython_magic_68a11cd41e27e0577b916e9fec989b78.pyx:22:8,\n",
      "    append_newline = True)\n",
      "File 'ExprNodes.py', line 519, in analyse_expressions: TupleNode(_cython_magic_68a11cd41e27e0577b916e9fec989b78.pyx:22:8,\n",
      "    is_sequence_constructor = 1,\n",
      "    result_is_used = True,\n",
      "    use_managed_ref = True)\n",
      "File 'ExprNodes.py', line 7259, in analyse_types: TupleNode(_cython_magic_68a11cd41e27e0577b916e9fec989b78.pyx:22:8,\n",
      "    is_sequence_constructor = 1,\n",
      "    result_is_used = True,\n",
      "    use_managed_ref = True)\n",
      "File 'ExprNodes.py', line 3314, in analyse_types: IndexNode(_cython_magic_68a11cd41e27e0577b916e9fec989b78.pyx:22:24,\n",
      "    is_subscript = True,\n",
      "    result_is_used = True,\n",
      "    use_managed_ref = True)\n",
      "File 'ExprNodes.py', line 3330, in analyse_base_and_index_types: IndexNode(_cython_magic_68a11cd41e27e0577b916e9fec989b78.pyx:22:24,\n",
      "    is_subscript = True,\n",
      "    result_is_used = True,\n",
      "    use_managed_ref = True)\n",
      "File 'ExprNodes.py', line 6227, in analyse_types: AttributeNode(_cython_magic_68a11cd41e27e0577b916e9fec989b78.pyx:22:18,\n",
      "    attribute = u'shape',\n",
      "    initialized_check = True,\n",
      "    is_attribute = 1,\n",
      "    member = u'shape',\n",
      "    needs_none_check = True,\n",
      "    op = '.',\n",
      "    result_is_used = True,\n",
      "    use_managed_ref = True)\n",
      "File 'ExprNodes.py', line 6340, in analyse_as_ordinary_attribute_node: AttributeNode(_cython_magic_68a11cd41e27e0577b916e9fec989b78.pyx:22:18,\n",
      "    attribute = u'shape',\n",
      "    initialized_check = True,\n",
      "    is_attribute = 1,\n",
      "    member = u'shape',\n",
      "    needs_none_check = True,\n",
      "    op = '.',\n",
      "    result_is_used = True,\n",
      "    use_managed_ref = True)\n",
      "File 'ExprNodes.py', line 6379, in analyse_attribute: AttributeNode(_cython_magic_68a11cd41e27e0577b916e9fec989b78.pyx:22:18,\n",
      "    attribute = u'shape',\n",
      "    initialized_check = True,\n",
      "    is_attribute = 1,\n",
      "    member = u'shape',\n",
      "    needs_none_check = True,\n",
      "    op = '.',\n",
      "    result_is_used = True,\n",
      "    use_managed_ref = True)\n",
      "\n",
      "Compiler crash traceback from this point on:\n",
      "  File \"/Users/YenChen/anaconda/lib/python2.7/site-packages/Cython/Compiler/ExprNodes.py\", line 6379, in analyse_attribute\n",
      "    if obj_type.attributes_known():\n",
      "  File \"/Users/YenChen/anaconda/lib/python2.7/site-packages/Cython/Compiler/PyrexTypes.py\", line 597, in attributes_known\n",
      "    'mvs_class_'+self.specialization_suffix(),\n",
      "  File \"/Users/YenChen/anaconda/lib/python2.7/site-packages/Cython/Compiler/PyrexTypes.py\", line 788, in specialization_suffix\n",
      "    return \"%s_%s\" % (self.axes_to_name(), self.dtype_name)\n",
      "AttributeError: 'MemoryViewSliceType' object has no attribute 'dtype_name'\n"
     ]
    }
   ],
   "source": [
    "%%cython\n",
    "\n",
    "cimport cython\n",
    "import numpy as np\n",
    "cimport numpy as np\n",
    "from cython cimport floating\n",
    "\n",
    "cdef (double*) get_pointer_DTYPE_2D(\n",
    "    np.ndarray[double, ndim=2, mode='c'] X):\n",
    "    return (<double*> X.data)\n",
    "\n",
    "cdef class BinaryTree:\n",
    "    cdef void *data\n",
    "    cdef np.ndarray data_arr\n",
    "    \n",
    "    def __init__(self):\n",
    "        self.data_arr = np.empty((1, 1), dtype=np.float64, order='C')\n",
    "        self.data_arr = np.asarray(self.data_arr)\n",
    "        self.data = get_pointer_DTYPE_2D(self.data_arr)\n",
    "        \n",
    "        cdef floating[:, ::1] data = <floating [:self.data_arr.shape[0],\n",
    "                                                :self.data_arr.shape[1]:1]>self.data\n",
    "        print data.shape[0]\n",
    "        print data.shape[1]\n",
    "        print \"init success\"\n",
    "\n",
    "        "
   ]
  },
  {
   "cell_type": "code",
   "execution_count": 11,
   "metadata": {
    "collapsed": false
   },
   "outputs": [
    {
     "name": "stdout",
     "output_type": "stream",
     "text": [
      "1\n",
      "1\n",
      "init success\n"
     ]
    }
   ],
   "source": [
    "b = BinaryTree()"
   ]
  },
  {
   "cell_type": "code",
   "execution_count": null,
   "metadata": {
    "collapsed": true
   },
   "outputs": [],
   "source": []
  }
 ],
 "metadata": {
  "kernelspec": {
   "display_name": "Python 2",
   "language": "python",
   "name": "python2"
  },
  "language_info": {
   "codemirror_mode": {
    "name": "ipython",
    "version": 2
   },
   "file_extension": ".py",
   "mimetype": "text/x-python",
   "name": "python",
   "nbconvert_exporter": "python",
   "pygments_lexer": "ipython2",
   "version": "2.7.11"
  }
 },
 "nbformat": 4,
 "nbformat_minor": 0
}
